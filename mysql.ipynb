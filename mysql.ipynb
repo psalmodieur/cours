{
 "cells": [
  {
   "cell_type": "markdown",
   "metadata": {},
   "source": [
    "# Tutoriel Python MySQL"
   ]
  },
  {
   "cell_type": "markdown",
   "metadata": {},
   "source": [
    "MySQL Connector/Python est le pilote MySQL officiel pour la connexion Python à la base de données MySQL.\n",
    "\n",
    "Voici un résumé de l'utilisation du module MySQL Connector avec des exemples.\n",
    "\n",
    "Vous devez avoir le module mysql.connector installé, utilisez pip pour installer le module.\n",
    "\n",
    "Pour tester si votre base de données fonctionne, vous pouvez utiliser le code ci-dessous :"
   ]
  },
  {
   "cell_type": "code",
   "execution_count": null,
   "metadata": {},
   "outputs": [],
   "source": [
    "# -*- coding:utf-8 -*-\n",
    "import mysql.connector\n",
    "\n",
    "# Connect with database, change parameters\n",
    "cnn = mysql.connector.connect(user='root',passwd='root',database='testdb')\n",
    "\n",
    "# create cursor\n",
    "cursor = cnn.cursor()\n",
    "\n",
    "# execute a query\n",
    "cursor.execute(\"SELECT VERSION()\")\n",
    "\n",
    "# fetch version\n",
    "data = cursor.fetchone()\n",
    "print(\"Database version : %s \" % data)\n",
    "\n",
    "# close connection\n",
    "cnn.close()"
   ]
  },
  {
   "cell_type": "markdown",
   "metadata": {},
   "source": [
    "## Database connection\n",
    "Le code pour connecter la base de données est le suivant. Modifiez les paramètres nom d'utilisateur, mot de passe et base de données et l'adresse de l'hôte s'il ne s'agit pas du serveur mysql localhost."
   ]
  },
  {
   "cell_type": "code",
   "execution_count": null,
   "metadata": {},
   "outputs": [],
   "source": [
    "import mysql.connector\n",
    "config={'host':'127.0.0.1',#default 127.0.0.1\n",
    "        'user':'root',\n",
    "        'password':'123456',\n",
    "        'port':3306 ,#default is 3306\n",
    "        'database':'testdb',\n",
    "        'charset':'utf8'# is utf8 by default\n",
    "        }\n",
    "try:\n",
    "  cnn=mysql.connector.connect(**config)\n",
    "except mysql.connector.Error as e:\n",
    "  print('connect fails!{}'.format(e))"
   ]
  },
  {
   "cell_type": "markdown",
   "metadata": {},
   "source": [
    "La méthode de connexion est légèrement différente du module MySQLdb, qui utilise le signe =, et ici le signe : ."
   ]
  },
  {
   "cell_type": "markdown",
   "metadata": {},
   "source": [
    "## Creating a table\n",
    "Les tables peuvent être créées avec la requête SQL CREATE TABLE '...' .\n",
    "\n",
    "Ci-dessous, nous créons une table nommée student basée sur une nouvelle connexion à la base de données ci-dessus. Le code est le suivant (vous devriez déjà être connecté à la base de données)."
   ]
  },
  {
   "cell_type": "code",
   "execution_count": null,
   "metadata": {},
   "outputs": [],
   "source": [
    "# create table query\n",
    "sql_create_table='CREATE TABLE `student` \n",
    "(`id` int(10) NOT NULL AUTO_INCREMENT,\n",
    "`name` varchar(10) DEFAULT NULL,\n",
    "`age` int(3) DEFAULT NULL,\n",
    "PRIMARY KEY (`id`)\n",
    "ENGINE=MyISAM DEFAULT CHARSET=utf8'\n",
    "\n",
    "# run query\n",
    "cursor=cnn.cursor()\n",
    "try:\n",
    "  cursor.execute(sql_create_table)\n",
    "except mysql.connector.Error as e:\n",
    "  print('create table orange fails!{}'.format(e))"
   ]
  },
  {
   "cell_type": "markdown",
   "metadata": {},
   "source": [
    "## Insert data\n",
    "La requête SQL \"INSERT INTO table (col1, col2,..) VALUES (....)\" insère un nouvel enregistrement dans la base de données.\n",
    "\n",
    "La syntaxe pour insérer des données est essentiellement la même que sur MySQLdb.\n",
    "\n",
    "Le code est comme suit :"
   ]
  },
  {
   "cell_type": "code",
   "execution_count": null,
   "metadata": {},
   "outputs": [],
   "source": [
    "cursor=cnn.cursor()\n",
    "try:\n",
    "  #First: direct string insertion method\n",
    "  sql_insert1=\"insert into student (name, age) values ('orange', 20)\"\n",
    "  cursor.execute(sql_insert1)\n",
    "\n",
    "  #Second: tuple connection insertion method\n",
    "  sql_insert2=\"insert into student (name, age) values (%s, %s)\"\n",
    "  #The %s here are placeholders, not formatted strings, so AGE uses %s\n",
    "  data=('shiki',25)\n",
    "  cursor.execute(sql_insert2,data)\n",
    "\n",
    "  #Third: dictionary connection insertion method\n",
    "  sql_insert3=\"insert into student (name, age) values (%(name)s, %(age)s)\"\n",
    "  data={'name':'mumu','age':30}\n",
    "  cursor.execute(sql_insert3,data)\n",
    "  #If the database engine is Innodb, execute cnn.commit() for transaction commit after execution\n",
    "except mysql.connector.Error as e:\n",
    "  print('insert datas error!{}'.format(e))\n",
    "finally:\n",
    "  cursor.close()\n",
    "  cnn.close()"
   ]
  },
  {
   "cell_type": "markdown",
   "metadata": {},
   "source": [
    "De même, le connecteur MySQL prend en charge plusieurs insertions, en utilisant également cursor.executeemany, par exemple."
   ]
  },
  {
   "cell_type": "code",
   "execution_count": null,
   "metadata": {},
   "outputs": [],
   "source": [
    "stmt='insert into student (name, age) values (%s,%s)'\n",
    "data=[\n",
    "     ('Linda', 31),\n",
    "     ('Carlos', 32),\n",
    "     ('Laura', 31)]\n",
    "cursor.executeemany(stmt,data)"
   ]
  },
  {
   "cell_type": "markdown",
   "metadata": {},
   "source": [
    "## Query operation\n",
    "Vous pouvez exécuter la requête SELECT pour extraire des données d'une table de base de données. \n",
    "Le code est comme suit"
   ]
  },
  {
   "cell_type": "code",
   "execution_count": null,
   "metadata": {},
   "outputs": [],
   "source": [
    "cursor=cnn.cursor()\n",
    "try:\n",
    "  sql_query='select id,name from student where age > %s'\n",
    "  cursor.execute(sql_query,(21,))\n",
    "  for id,name in cursor. print ('%s\\'s age is older than 25,and her/his id is %d'%(name,id))\n",
    "    print ('%s\\'s age is older than 25,and her/his id is %d'%(name,id))\n",
    "except mysql.connector.Error as e:\n",
    "  print('query error!{}'.format(e))\n",
    "finally:\n",
    "  cursor.close()\n",
    "  cnn.close()"
   ]
  },
  {
   "cell_type": "markdown",
   "metadata": {},
   "source": [
    "## Delete operation\n",
    "La suppression de la base de données peut être effectuée avec la requête DELETE FROM table WHERE .... Le code est le suivant :"
   ]
  },
  {
   "cell_type": "code",
   "execution_count": null,
   "metadata": {},
   "outputs": [],
   "source": [
    "cursor=cnn.cursor()\n",
    "try:\n",
    "  sql_delete='delete from student where name = %(name)s and age < %(age)s'\n",
    "  data={'name':'orange','age':24}\n",
    "  cursor.execute(sql_delete,data)\n",
    "except mysql.connector.Error as e:\n",
    "  print('delete error!{}'.format(e))\n",
    "finally:\n",
    "  cursor.close()\n",
    "  cnn.close()"
   ]
  }
 ],
 "metadata": {
  "kernelspec": {
   "display_name": "Python 3",
   "language": "python",
   "name": "python3"
  },
  "language_info": {
   "codemirror_mode": {
    "name": "ipython",
    "version": 3
   },
   "file_extension": ".py",
   "mimetype": "text/x-python",
   "name": "python",
   "nbconvert_exporter": "python",
   "pygments_lexer": "ipython3",
   "version": "3.8.3"
  }
 },
 "nbformat": 4,
 "nbformat_minor": 4
}
